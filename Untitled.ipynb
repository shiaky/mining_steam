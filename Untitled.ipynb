{
 "cells": [
  {
   "cell_type": "code",
   "execution_count": 1,
   "metadata": {},
   "outputs": [
    {
     "name": "stderr",
     "output_type": "stream",
     "text": [
      "/home/alexander/anaconda3/lib/python3.6/site-packages/matplotlib/font_manager.py:279: UserWarning: Matplotlib is building the font cache using fc-list. This may take a moment.\n",
      "  'Matplotlib is building the font cache using fc-list. '\n"
     ]
    }
   ],
   "source": [
    "import pandas as pd\n",
    "import numpy as np\n",
    "import seaborn as sns\n",
    "import matplotlib.pyplot as plt\n",
    "import sqlite3\n"
   ]
  },
  {
   "cell_type": "code",
   "execution_count": 2,
   "metadata": {
    "collapsed": true
   },
   "outputs": [],
   "source": [
    "conn = sqlite3.connect(\"/home/alexander/MiningSteam/data/data_05-11-17__5000.db\")"
   ]
  },
  {
   "cell_type": "code",
   "execution_count": 3,
   "metadata": {},
   "outputs": [
    {
     "data": {
      "text/html": [
       "<div>\n",
       "<style>\n",
       "    .dataframe thead tr:only-child th {\n",
       "        text-align: right;\n",
       "    }\n",
       "\n",
       "    .dataframe thead th {\n",
       "        text-align: left;\n",
       "    }\n",
       "\n",
       "    .dataframe tbody tr th {\n",
       "        vertical-align: top;\n",
       "    }\n",
       "</style>\n",
       "<table border=\"1\" class=\"dataframe\">\n",
       "  <thead>\n",
       "    <tr style=\"text-align: right;\">\n",
       "      <th></th>\n",
       "      <th>Id</th>\n",
       "      <th>SteamName</th>\n",
       "      <th>LastLogOff</th>\n",
       "      <th>RealName</th>\n",
       "      <th>PrimaryClanId</th>\n",
       "      <th>TimeCreated</th>\n",
       "      <th>Country</th>\n",
       "      <th>State</th>\n",
       "      <th>City</th>\n",
       "      <th>PrivacyState</th>\n",
       "      <th>Banned</th>\n",
       "      <th>DaysSinceLastBan</th>\n",
       "    </tr>\n",
       "  </thead>\n",
       "  <tbody>\n",
       "    <tr>\n",
       "      <th>0</th>\n",
       "      <td>76561198287283275</td>\n",
       "      <td>saskia noverina</td>\n",
       "      <td>1.500729e+09</td>\n",
       "      <td>None</td>\n",
       "      <td>103582791429521408</td>\n",
       "      <td>1456823345</td>\n",
       "      <td>ID</td>\n",
       "      <td>10</td>\n",
       "      <td>20856</td>\n",
       "      <td>3</td>\n",
       "      <td>0</td>\n",
       "      <td>0</td>\n",
       "    </tr>\n",
       "    <tr>\n",
       "      <th>1</th>\n",
       "      <td>76561198168391206</td>\n",
       "      <td>djamel09</td>\n",
       "      <td>1.418836e+09</td>\n",
       "      <td>None</td>\n",
       "      <td>103582791429521408</td>\n",
       "      <td>1418835832</td>\n",
       "      <td>None</td>\n",
       "      <td>None</td>\n",
       "      <td>None</td>\n",
       "      <td>3</td>\n",
       "      <td>0</td>\n",
       "      <td>0</td>\n",
       "    </tr>\n",
       "    <tr>\n",
       "      <th>2</th>\n",
       "      <td>76561198192216715</td>\n",
       "      <td>1369320228</td>\n",
       "      <td>1.432449e+09</td>\n",
       "      <td>None</td>\n",
       "      <td>103582791429521408</td>\n",
       "      <td>1429324601</td>\n",
       "      <td>None</td>\n",
       "      <td>None</td>\n",
       "      <td>None</td>\n",
       "      <td>3</td>\n",
       "      <td>0</td>\n",
       "      <td>0</td>\n",
       "    </tr>\n",
       "    <tr>\n",
       "      <th>3</th>\n",
       "      <td>76561198103382872</td>\n",
       "      <td>Nk73000</td>\n",
       "      <td>1.509865e+09</td>\n",
       "      <td>None</td>\n",
       "      <td>103582791429521408</td>\n",
       "      <td>1376789575</td>\n",
       "      <td>None</td>\n",
       "      <td>None</td>\n",
       "      <td>None</td>\n",
       "      <td>3</td>\n",
       "      <td>0</td>\n",
       "      <td>0</td>\n",
       "    </tr>\n",
       "    <tr>\n",
       "      <th>4</th>\n",
       "      <td>76561198297596597</td>\n",
       "      <td>tim.thelen.official</td>\n",
       "      <td>1.466093e+09</td>\n",
       "      <td>None</td>\n",
       "      <td>103582791429521408</td>\n",
       "      <td>1460479063</td>\n",
       "      <td>None</td>\n",
       "      <td>None</td>\n",
       "      <td>None</td>\n",
       "      <td>3</td>\n",
       "      <td>0</td>\n",
       "      <td>0</td>\n",
       "    </tr>\n",
       "  </tbody>\n",
       "</table>\n",
       "</div>"
      ],
      "text/plain": [
       "                  Id            SteamName    LastLogOff RealName  \\\n",
       "0  76561198287283275      saskia noverina  1.500729e+09     None   \n",
       "1  76561198168391206             djamel09  1.418836e+09     None   \n",
       "2  76561198192216715           1369320228  1.432449e+09     None   \n",
       "3  76561198103382872              Nk73000  1.509865e+09     None   \n",
       "4  76561198297596597  tim.thelen.official  1.466093e+09     None   \n",
       "\n",
       "        PrimaryClanId  TimeCreated Country State   City  PrivacyState  Banned  \\\n",
       "0  103582791429521408   1456823345      ID    10  20856             3       0   \n",
       "1  103582791429521408   1418835832    None  None   None             3       0   \n",
       "2  103582791429521408   1429324601    None  None   None             3       0   \n",
       "3  103582791429521408   1376789575    None  None   None             3       0   \n",
       "4  103582791429521408   1460479063    None  None   None             3       0   \n",
       "\n",
       "   DaysSinceLastBan  \n",
       "0                 0  \n",
       "1                 0  \n",
       "2                 0  \n",
       "3                 0  \n",
       "4                 0  "
      ]
     },
     "execution_count": 3,
     "metadata": {},
     "output_type": "execute_result"
    }
   ],
   "source": [
    "players = pd.read_sql_query(\"SELECT * FROM players;\", conn)\n",
    "players.head()"
   ]
  },
  {
   "cell_type": "code",
   "execution_count": null,
   "metadata": {
    "collapsed": true
   },
   "outputs": [],
   "source": []
  }
 ],
 "metadata": {
  "kernelspec": {
   "display_name": "Python 3",
   "language": "python",
   "name": "python3"
  },
  "language_info": {
   "codemirror_mode": {
    "name": "ipython",
    "version": 3
   },
   "file_extension": ".py",
   "mimetype": "text/x-python",
   "name": "python",
   "nbconvert_exporter": "python",
   "pygments_lexer": "ipython3",
   "version": "3.6.3"
  }
 },
 "nbformat": 4,
 "nbformat_minor": 2
}
